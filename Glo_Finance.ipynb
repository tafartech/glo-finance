{
  "nbformat": 4,
  "nbformat_minor": 0,
  "metadata": {
    "colab": {
      "private_outputs": true,
      "provenance": [],
      "authorship_tag": "ABX9TyN7EympnvrpVD9ZAZ+40yGv",
      "include_colab_link": true
    },
    "kernelspec": {
      "name": "python3",
      "display_name": "Python 3"
    },
    "language_info": {
      "name": "python"
    },
    "accelerator": "TPU"
  },
  "cells": [
    {
      "cell_type": "markdown",
      "metadata": {
        "id": "view-in-github",
        "colab_type": "text"
      },
      "source": [
        "<a href=\"https://colab.research.google.com/github/tafartech/glo-finance/blob/main/Glo_Finance.ipynb\" target=\"_parent\"><img src=\"https://colab.research.google.com/assets/colab-badge.svg\" alt=\"Open In Colab\"/></a>"
      ]
    },
    {
      "cell_type": "markdown",
      "source": [
        "# Data Collection\n",
        "\n",
        "*As we are interested in stock price data. We can use a library like yfinance to fetch historical stock data.*"
      ],
      "metadata": {
        "id": "HMDKCq0FL4zA"
      }
    },
    {
      "cell_type": "code",
      "execution_count": null,
      "metadata": {
        "id": "1q2tpvZoLXS2"
      },
      "outputs": [],
      "source": [
        "!pip install yfinance\n"
      ]
    },
    {
      "cell_type": "markdown",
      "source": [
        "**Once the installation is successful, you can proceed with the next cell to fetch the stock data. For example, let's fetch historical data for a well-known company like Apple Inc. (AAPL)**"
      ],
      "metadata": {
        "id": "lv-Fc1McMgmh"
      }
    },
    {
      "cell_type": "code",
      "source": [
        "import yfinance as yf\n",
        "\n",
        "# Specify the stock symbol and date range\n",
        "stock_symbol = 'AAPL'\n",
        "start_date = '2020-01-01'\n",
        "end_date = '2023-01-01'\n",
        "\n",
        "# Fetch the historical data\n",
        "stock_data = yf.download(stock_symbol, start=start_date, end=end_date)\n",
        "\n",
        "# Display the first few rows of the dataset\n",
        "stock_data.head()\n"
      ],
      "metadata": {
        "id": "HAEp7DiVMkSN"
      },
      "execution_count": null,
      "outputs": []
    },
    {
      "cell_type": "markdown",
      "source": [
        "# 2.Data Exploration and Preprocessing\n",
        "\n",
        "*In this step, we'll explore the dataset to understand its structure and perform any necessary preprocessing*"
      ],
      "metadata": {
        "id": "pqEBr6NHNXEj"
      }
    },
    {
      "cell_type": "code",
      "source": [
        "# Import necessary libraries\n",
        "import pandas as pd\n",
        "\n",
        "# Display basic information about the dataset\n",
        "stock_data.info()\n"
      ],
      "metadata": {
        "id": "E3WfevBENlpI"
      },
      "execution_count": null,
      "outputs": []
    },
    {
      "cell_type": "markdown",
      "source": [
        "### Data Exploration and Preprocessing\n",
        "\n",
        "The dataset contains historical stock data for Apple Inc. (AAPL) from January 2, 2020, to December 30, 2022. It consists of 756 entries with a datetime index.\n",
        "\n",
        "#### Data Columns\n",
        "\n",
        "1. **Open**: Opening stock price for the day.\n",
        "2. **High**: Highest stock price during the day.\n",
        "3. **Low**: Lowest stock price during the day.\n",
        "4. **Close**: Closing stock price for the day.\n",
        "5. **Adj Close**: Adjusted closing stock price, accounting for dividends and stock splits.\n",
        "6. **Volume**: Number of shares traded.\n",
        "\n",
        "#### Data Types and Non-Null Counts\n",
        "\n",
        "- **Open, High, Low, Close, Adj Close**: Floating-point numbers.\n",
        "- **Volume**: Integer.\n",
        "\n",
        "No missing values are observed in the dataset. We can now proceed with visualizing these stock prices and exploring trends over time.\n"
      ],
      "metadata": {
        "id": "Lyhaif7XOERE"
      }
    },
    {
      "cell_type": "code",
      "source": [
        "# Import necessary libraries for visualization\n",
        "import matplotlib.pyplot as plt\n",
        "import seaborn as sns\n",
        "\n",
        "# Set the style for the plots\n",
        "sns.set_style(\"whitegrid\")\n",
        "\n",
        "# Plotting the closing prices over time\n",
        "plt.figure(figsize=(12, 6))\n",
        "sns.lineplot(x=stock_data.index, y=stock_data['Close'], label='Closing Price')\n",
        "plt.title('AAPL Stock Closing Prices Over Time')\n",
        "plt.xlabel('Date')\n",
        "plt.ylabel('Closing Price (USD)')\n",
        "plt.legend()\n",
        "plt.show()\n"
      ],
      "metadata": {
        "id": "4uhXiSQEXYij"
      },
      "execution_count": null,
      "outputs": []
    },
    {
      "cell_type": "markdown",
      "source": [
        "# Visualizing Financial Metrics\n",
        "\n",
        "\n",
        "\n",
        "*   Create visualizations for additional financial metrics like moving averages, volatility, or trading volume.\n",
        "*   Consider plotting these metrics on separate subplots or in a multi-panel chart for better comparison.\n",
        "\n"
      ],
      "metadata": {
        "id": "lc4HwKB1Y3Tv"
      }
    },
    {
      "cell_type": "markdown",
      "source": [
        "**Moving Averages**\n",
        "\n",
        "Moving averages can help smooth out fluctuations in stock prices and reveal trends over time. Let's start by calculating and visualizing simple moving averages (SMA) for the closing prices."
      ],
      "metadata": {
        "id": "Gse4c2EaZUrX"
      }
    },
    {
      "cell_type": "code",
      "source": [
        "# Calculate 20-day and 50-day simple moving averages\n",
        "stock_data['SMA_20'] = stock_data['Close'].rolling(window=20).mean()\n",
        "stock_data['SMA_50'] = stock_data['Close'].rolling(window=50).mean()\n",
        "\n",
        "# Plotting\n",
        "plt.figure(figsize=(14, 8))\n",
        "plt.plot(stock_data['Close'], label='Closing Price', linewidth=2)\n",
        "plt.plot(stock_data['SMA_20'], label='20-Day SMA', linestyle='--', linewidth=2)\n",
        "plt.plot(stock_data['SMA_50'], label='50-Day SMA', linestyle='--', linewidth=2)\n",
        "\n",
        "plt.title('AAPL Stock Price with Moving Averages')\n",
        "plt.xlabel('Date')\n",
        "plt.ylabel('Price (USD)')\n",
        "plt.legend()\n",
        "plt.show()\n"
      ],
      "metadata": {
        "id": "596f0roSZG-4"
      },
      "execution_count": null,
      "outputs": []
    },
    {
      "cell_type": "markdown",
      "source": [
        "**Trading Volume**\n",
        "\n",
        "Visualizing trading volume can provide insights into the intensity of market activity. Let's plot the trading volume on a separate subplot."
      ],
      "metadata": {
        "id": "G4T8xttVZle7"
      }
    },
    {
      "cell_type": "code",
      "source": [
        "# Plotting trading volume\n",
        "plt.figure(figsize=(14, 8))\n",
        "\n",
        "plt.subplot(2, 1, 1)\n",
        "plt.plot(stock_data['Close'], label='Closing Price', linewidth=2)\n",
        "plt.plot(stock_data['SMA_20'], label='20-Day SMA', linestyle='--', linewidth=2)\n",
        "plt.plot(stock_data['SMA_50'], label='50-Day SMA', linestyle='--', linewidth=2)\n",
        "plt.title('AAPL Stock Price with Moving Averages')\n",
        "plt.xlabel('Date')\n",
        "plt.ylabel('Price (USD)')\n",
        "plt.legend()\n",
        "\n",
        "plt.subplot(2, 1, 2)\n",
        "plt.bar(stock_data.index, stock_data['Volume'], color='yellow', alpha=0.7)\n",
        "plt.title('AAPL Trading Volume')\n",
        "plt.xlabel('Date')\n",
        "plt.ylabel('Volume (Millions)')\n",
        "plt.show()\n"
      ],
      "metadata": {
        "id": "gISjl43gZuHP"
      },
      "execution_count": null,
      "outputs": []
    },
    {
      "cell_type": "markdown",
      "source": [
        "# 4.Statistical Analysis\n",
        "\n",
        "\n",
        "\n",
        "1.   Incorporate statistical analysis or time-series forecasting to provide insights into future stock prices.\n",
        "2.   Calculate and visualize metrics such as rolling averages, standard deviations, or correlations.\n",
        "\n"
      ],
      "metadata": {
        "id": "8cu0wIEXa9tc"
      }
    },
    {
      "cell_type": "markdown",
      "source": [
        "**Correlation Matrix**\n",
        "\n",
        "Explore the correlation between different financial metrics. This can provide insights into how variables move in relation to each other."
      ],
      "metadata": {
        "id": "XUEw7V6OcAFz"
      }
    },
    {
      "cell_type": "code",
      "source": [
        "# Calculate correlation matrix\n",
        "correlation_matrix = stock_data[['Open', 'High', 'Low', 'Close', 'Adj Close', 'Volume']].corr()\n",
        "\n",
        "# Plotting heatmap\n",
        "plt.figure(figsize=(10, 8))\n",
        "sns.heatmap(correlation_matrix, annot=True, cmap='coolwarm', linewidths=.5)\n",
        "plt.title('Correlation Matrix of Financial Metrics')\n",
        "plt.show()\n"
      ],
      "metadata": {
        "id": "F2nmXE3Ob05M"
      },
      "execution_count": null,
      "outputs": []
    },
    {
      "cell_type": "markdown",
      "source": [
        "**Pie Chart to represent metrics**"
      ],
      "metadata": {
        "id": "k6VPqG7PdCXR"
      }
    },
    {
      "cell_type": "code",
      "source": [
        "import matplotlib.pyplot as plt\n",
        "import seaborn as sns\n",
        "\n",
        "# Calculate the percentage contribution of each metric to the closing price\n",
        "contributions = stock_data[['Open', 'High', 'Low', 'Close', 'Adj Close', 'Volume']].mean() / stock_data['Close'].mean()\n",
        "\n",
        "# Set a color palette for a more professional look\n",
        "colors = sns.color_palette('pastel')\n",
        "\n",
        "# Plotting a more polished pie chart\n",
        "plt.figure(figsize=(10, 8))\n",
        "plt.pie(contributions, labels=contributions.index, autopct='%1.1f%%', startangle=140, colors=colors, wedgeprops=dict(width=0.3))\n",
        "plt.title('Percentage Contribution of Metrics to Closing Price', fontsize=16, fontweight='bold')\n",
        "plt.show()\n"
      ],
      "metadata": {
        "id": "5d0z4iVCc5cD"
      },
      "execution_count": null,
      "outputs": []
    },
    {
      "cell_type": "markdown",
      "source": [
        "# 5. Time-Series Forecasting\n",
        "\n",
        "\n",
        "\n",
        "*  Let's Explore time-series forecasting techniques to predict future stock prices.\n",
        "*   Consider using models like ARIMA, SARIMA, or machine learning approaches for more advanced forecasting.\n",
        "\n",
        "* Let's proceed with Time-Series Forecasting. One commonly used method for time-series forecasting is the ARIMA (AutoRegressive Integrated Moving Average) model. This model combines autoregression, differencing, and moving averages to make predictions.*\n",
        "\n"
      ],
      "metadata": {
        "id": "lrI_KIAeeG5K"
      }
    },
    {
      "cell_type": "code",
      "source": [
        "from statsmodels.tsa.arima.model import ARIMA\n",
        "from sklearn.metrics import mean_squared_error\n",
        "from math import sqrt\n",
        "\n",
        "# Extracting the closing prices for modeling\n",
        "closing_prices = stock_data['Close']\n",
        "\n",
        "# Splitting the data into training and testing sets\n",
        "train_size = int(len(closing_prices) * 0.8)\n",
        "train, test = closing_prices[:train_size], closing_prices[train_size:]\n",
        "\n",
        "# Fit ARIMA model\n",
        "order = (5, 1, 1)  # Example order, you may need to fine-tune this\n",
        "model = ARIMA(train, order=order)\n",
        "model_fit = model.fit()\n",
        "\n",
        "# Make predictions\n",
        "predictions = model_fit.forecast(steps=len(test))\n",
        "\n",
        "# Calculate RMSE (Root Mean Squared Error)\n",
        "rmse = sqrt(mean_squared_error(test, predictions))\n",
        "print(f'Root Mean Squared Error: {rmse}')\n",
        "\n",
        "# Plotting\n",
        "plt.figure(figsize=(14, 6))\n",
        "plt.plot(train, label='Training Data')\n",
        "plt.plot(test, label='Actual Prices')\n",
        "plt.plot(test.index, predictions, label='Predicted Prices', linestyle='--')\n",
        "plt.title('ARIMA Forecasting of Stock Prices')\n",
        "plt.xlabel('Date')\n",
        "plt.ylabel('Closing Price (USD)')\n",
        "plt.legend()\n",
        "plt.show()\n"
      ],
      "metadata": {
        "id": "xGT9HArKd54y"
      },
      "execution_count": null,
      "outputs": []
    },
    {
      "cell_type": "markdown",
      "source": [
        "**Note: In this example**\n",
        "\n",
        "\n",
        "\n",
        "*   We split the data into training and testing sets.\n",
        "*   We fit an ARIMA model on the training data.\n",
        "\n",
        "\n",
        "*   We make predictions for the testing set.\n",
        "*   We calculate and print the Root Mean Squared Error (RMSE) as a measure of model accuracy.\n",
        "We visualize the training data, actual prices in the testing set, and predicted prices.\n",
        "\n",
        "\n",
        "\n"
      ],
      "metadata": {
        "id": "Zu7HlIg7eyRy"
      }
    },
    {
      "cell_type": "markdown",
      "source": [
        "# 6.Fine-Tune ARIMA Model:\n",
        "Experiment with different orders and parameters to fine-tune the ARIMA model for better forecasting accuracy.\n",
        "we will Consider using grid search techniques to find the best combination of parameters."
      ],
      "metadata": {
        "id": "ORsXlteAgC28"
      }
    },
    {
      "cell_type": "code",
      "source": [
        "import itertools\n",
        "import warnings\n",
        "from statsmodels.tsa.arima.model import ARIMA\n",
        "from sklearn.metrics import mean_squared_error\n",
        "from math import sqrt\n",
        "\n",
        "# Suppress ARIMA warnings\n",
        "warnings.filterwarnings(\"ignore\")\n",
        "\n",
        "# Extracting the closing prices for modeling\n",
        "closing_prices = stock_data['Close']\n",
        "\n",
        "# Splitting the data into training and testing sets\n",
        "train_size = int(len(closing_prices) * 0.8)\n",
        "train, test = closing_prices[:train_size], closing_prices[train_size:]\n",
        "\n",
        "# Define the hyperparameters to search\n",
        "p_values = range(0, 3)  # Example range, adjust as needed\n",
        "d_values = range(0, 3)\n",
        "q_values = range(0, 3)\n",
        "\n",
        "# Generate all possible combinations of p, d, and q\n",
        "orders = list(itertools.product(p_values, d_values, q_values))\n",
        "\n",
        "best_rmse = float('inf')\n",
        "best_order = None\n",
        "\n",
        "# Grid search loop\n",
        "for order in orders:\n",
        "    try:\n",
        "        model = ARIMA(train, order=order)\n",
        "        model_fit = model.fit()\n",
        "\n",
        "        predictions = model_fit.forecast(steps=len(test))\n",
        "        rmse = sqrt(mean_squared_error(test, predictions))\n",
        "\n",
        "        # Update the best model if the current one performs better\n",
        "        if rmse < best_rmse:\n",
        "            best_rmse = rmse\n",
        "            best_order = order\n",
        "\n",
        "        print(f'Order: {order}, RMSE: {rmse}')\n",
        "\n",
        "    except Exception as e:\n",
        "        continue\n",
        "\n",
        "print(f'Best Order: {best_order}, Best RMSE: {best_rmse}')\n"
      ],
      "metadata": {
        "id": "piBAaAISfS8E"
      },
      "execution_count": null,
      "outputs": []
    },
    {
      "cell_type": "markdown",
      "source": [
        "*In this example, we iterate through different combinations of p, d, and q values, fit the ARIMA model for each combination, and evaluate its performance using the Root Mean Squared Error (RMSE). The combination with the lowest RMSE is considered the best.*"
      ],
      "metadata": {
        "id": "An6SMMh1hHpv"
      }
    },
    {
      "cell_type": "markdown",
      "source": [
        "**Tips: Now that we have identified the best order, we can proceed to use this order to build the final ARIMA model for forecasting**"
      ],
      "metadata": {
        "id": "hCyJyFPsheCK"
      }
    },
    {
      "cell_type": "code",
      "source": [
        "# Fit the ARIMA model with the best order\n",
        "best_order = (0, 2, 2)  # Replace with the best order from your grid search\n",
        "final_model = ARIMA(closing_prices, order=best_order)\n",
        "final_model_fit = final_model.fit()\n",
        "\n",
        "# Forecast future prices\n",
        "future_steps = 30  # Adjust as needed\n",
        "forecast = final_model_fit.forecast(steps=future_steps)\n",
        "\n",
        "# Plotting\n",
        "plt.figure(figsize=(14, 6))\n",
        "plt.plot(closing_prices, label='Historical Prices')\n",
        "plt.plot(forecast.index, forecast, label='Forecasted Prices', linestyle='--')\n",
        "plt.title('ARIMA Forecasting of Stock Prices with Best Order')\n",
        "plt.xlabel('Date')\n",
        "plt.ylabel('Closing Price (USD)')\n",
        "plt.legend()\n",
        "plt.show()\n"
      ],
      "metadata": {
        "id": "Mf-7E9zzhMsR"
      },
      "execution_count": null,
      "outputs": []
    },
    {
      "cell_type": "markdown",
      "source": [
        "# 6.1 Evaluation and Validation:\n",
        "\n",
        "Evaluate the accuracy of the forecasts using additional metrics like Mean Absolute Error (MAE) or Mean Absolute Percentage Error (MAPE).\n",
        "Compare the forecasted values with the actual values to ensure the model is capturing the underlying patterns."
      ],
      "metadata": {
        "id": "RqLi3k3CivuO"
      }
    },
    {
      "cell_type": "markdown",
      "source": [
        "*Let's calculate both Mean Absolute Error (MAE) and Mean Absolute Percentage Error (MAPE) to assess the accuracy of your ARIMA model*"
      ],
      "metadata": {
        "id": "c5KoANkyjChB"
      }
    },
    {
      "cell_type": "code",
      "source": [
        "from sklearn.metrics import mean_absolute_error\n",
        "import numpy as np\n",
        "\n",
        "# Ensure the lengths of actual_values and forecast match\n",
        "actual_values = closing_prices[train_size:train_size + len(forecast)]\n",
        "\n",
        "# Evaluate forecast accuracy\n",
        "mae = mean_absolute_error(actual_values, forecast)\n",
        "\n",
        "# Calculate MAPE with handling for zero values and nan values\n",
        "mape = np.mean(np.abs((actual_values - forecast) / np.maximum(np.abs(actual_values), 1)))\n",
        "mape = np.where(np.isnan(mape), 0, mape) * 100\n",
        "\n",
        "print(f'Mean Absolute Error (MAE): {mae:.2f}')\n",
        "print(f'Mean Absolute Percentage Error (MAPE): {mape:.2f}%')\n"
      ],
      "metadata": {
        "id": "xBTJk9rIk7Yi"
      },
      "execution_count": null,
      "outputs": []
    },
    {
      "cell_type": "markdown",
      "source": [
        "#6.2 Visualization Enhancement:\n",
        "\n",
        "Enhance the visualizations to include the historical prices, forecasted prices, and any additional information that adds value to the representation."
      ],
      "metadata": {
        "id": "nQDAmlFuldaL"
      }
    },
    {
      "cell_type": "code",
      "source": [
        "import matplotlib.pyplot as plt\n",
        "\n",
        "# Plotting\n",
        "plt.figure(figsize=(14, 6))\n",
        "\n",
        "# Plot historical prices\n",
        "plt.plot(closing_prices, label='Historical Prices', color='blue')\n",
        "\n",
        "# Plot forecasted prices\n",
        "plt.plot(forecast.index, forecast, label='Forecasted Prices', linestyle='--', color='orange')\n",
        "\n",
        "# Highlight the testing set period\n",
        "plt.axvspan(actual_values.index[0], actual_values.index[-1], alpha=0.3, color='gray', label='Testing Set')\n",
        "\n",
        "# Title and labels\n",
        "plt.title('ARIMA Forecasting of Stock Prices with Best Order')\n",
        "plt.xlabel('Date')\n",
        "plt.ylabel('Closing Price (USD)')\n",
        "\n",
        "# Legend\n",
        "plt.legend()\n",
        "\n",
        "# Show the plot\n",
        "plt.show()\n"
      ],
      "metadata": {
        "id": "Mquv4SRtllbv"
      },
      "execution_count": null,
      "outputs": []
    },
    {
      "cell_type": "markdown",
      "source": [
        "**This code uses matplotlib to create a plot that includes historical prices, forecasted prices, and highlights the testing set period. The axvspan function is used to shade the area corresponding to the testing set.**"
      ],
      "metadata": {
        "id": "pipkK9lql7Jp"
      }
    },
    {
      "cell_type": "markdown",
      "source": [
        "# 6.3 Dashboard Integration (Optional):\n",
        "\n",
        "Let's integrate the ARIMA forecasts into a dashboard to provide an interactive and dynamic view of the predictions."
      ],
      "metadata": {
        "id": "U2Mn-jBvmRV2"
      }
    },
    {
      "cell_type": "code",
      "source": [
        "!pip install plotly dash\n"
      ],
      "metadata": {
        "id": "uq2G97unl-oV"
      },
      "execution_count": null,
      "outputs": []
    },
    {
      "cell_type": "code",
      "source": [
        "pip install dash dash-bootstrap-components plotly\n"
      ],
      "metadata": {
        "id": "1iD4qxX_nngv"
      },
      "execution_count": null,
      "outputs": []
    },
    {
      "cell_type": "code",
      "source": [
        "# Import necessary libraries\n",
        "import dash\n",
        "from dash import dcc, html\n",
        "from dash.dependencies import Input, Output\n",
        "import pandas as pd\n",
        "import numpy as np\n",
        "import plotly.express as px\n",
        "\n",
        "# Sample data (replace this with your actual data)\n",
        "np.random.seed(42)\n",
        "closing_prices = pd.Series(np.random.rand(365), index=pd.date_range(start='2022-01-01', periods=365))\n",
        "\n",
        "# Initialize the application\n",
        "app = dash.Dash(__name__)\n",
        "\n",
        "# Update the layout of the dashboard\n",
        "app.layout = html.Div([\n",
        "    html.H1(\"Financial Analysis Dashboard\"),\n",
        "\n",
        "    # Dropdown for selecting stocks\n",
        "    html.Label(\"Select Stock:\"),\n",
        "    dcc.Dropdown(\n",
        "        id='stock-dropdown',\n",
        "        options=[\n",
        "            {'label': 'Your Stock 1', 'value': 'STOCK1'},\n",
        "            {'label': 'Your Stock 2', 'value': 'STOCK2'},\n",
        "            # Add more options for other stocks as needed\n",
        "        ],\n",
        "        value='STOCK1',  # Default selected stock\n",
        "        multi=False\n",
        "    ),\n",
        "\n",
        "    # Slider for selecting time range\n",
        "    html.Label(\"Select Time Range:\"),\n",
        "    dcc.RangeSlider(\n",
        "        id='time-slider',\n",
        "        min=0,\n",
        "        max=len(closing_prices)-1,\n",
        "        marks={i: str(closing_prices.index[i].date()) for i in range(0, len(closing_prices), len(closing_prices)//5)},\n",
        "        step=1,\n",
        "        value=[0, len(closing_prices)-1]  # Default: entire time range\n",
        "    ),\n",
        "\n",
        "    # Line chart for displaying closing prices\n",
        "    dcc.Graph(\n",
        "        id='stock-closing-prices',\n",
        "        figure={\n",
        "            'data': [\n",
        "                {'x': closing_prices.index, 'y': closing_prices, 'type': 'line', 'name': 'Closing Price'},\n",
        "            ],\n",
        "            'layout': {\n",
        "                'title': 'Selected Stock Closing Prices Over Time',\n",
        "                'xaxis': {'title': 'Date'},\n",
        "                'yaxis': {'title': 'Closing Price (USD)'},\n",
        "            }\n",
        "        }\n",
        "    )\n",
        "])\n",
        "\n",
        "# Callback to update the chart based on dropdown and slider values\n",
        "@app.callback(\n",
        "    Output('stock-closing-prices', 'figure'),\n",
        "    [Input('stock-dropdown', 'value'),\n",
        "     Input('time-slider', 'value')]\n",
        ")\n",
        "def update_chart(selected_stock, selected_time_range):\n",
        "    # Your logic for updating the chart based on selected_stock and selected_time_range\n",
        "    # Make sure to replace this placeholder logic with your actual data and filtering logic\n",
        "\n",
        "    # For demonstration purposes, let's assume closing_prices is a Series containing the necessary data\n",
        "    # Replace this with your actual data filtering logic\n",
        "    filtered_data = closing_prices[selected_time_range[0]:selected_time_range[1]]\n",
        "\n",
        "    # Update the figure\n",
        "    updated_figure = {\n",
        "        'data': [\n",
        "            {'x': filtered_data.index, 'y': filtered_data, 'type': 'line', 'name': 'Closing Price'},\n",
        "        ],\n",
        "        'layout': {\n",
        "            'title': f'{selected_stock} Closing Prices Over Time',\n",
        "            'xaxis': {'title': 'Date'},\n",
        "            'yaxis': {'title': 'Closing Price (USD)'},\n",
        "        }\n",
        "    }\n",
        "\n",
        "    return updated_figure\n",
        "\n",
        "# Run the application\n",
        "if __name__ == '__main__':\n",
        "    app.run_server(debug=True)\n"
      ],
      "metadata": {
        "id": "SBiYUPNfz72K"
      },
      "execution_count": null,
      "outputs": []
    },
    {
      "cell_type": "markdown",
      "source": [
        "#  Refinement of the Model:\n",
        "\n",
        "*Analyze the diagnostic plots and model summary to identify any issues or areas for improvement. If necessary, refine the ARIMA model by adjusting hyperparameters, trying different orders, or incorporating additional features. Consider the following:*"
      ],
      "metadata": {
        "id": "HDssP7ntTL6Y"
      }
    },
    {
      "cell_type": "code",
      "source": [
        "# Assuming you have already fitted the ARIMA model (replace 'model' with your actual model object)\n",
        "model_fit = model.fit()\n",
        "\n",
        "# Display model summary\n",
        "print(model_fit.summary())\n",
        "\n",
        "# Analyze diagnostic plots\n",
        "model_fit.plot_diagnostics()\n"
      ],
      "metadata": {
        "id": "_-FLdeMaS8Oj"
      },
      "execution_count": null,
      "outputs": []
    },
    {
      "cell_type": "markdown",
      "source": [
        "# Feature Engineering\n",
        "\n",
        "*Feature engineering can sometimes improve the predictive power of time series models. Some ideas for feature engineering in time series forecasting include:*\n",
        "\n",
        "\n",
        "\n",
        "1.   Lagged Variables: Include lagged values of the target variable (e.g., closing prices) as additional features. This can capture trends and patterns in past observations\n",
        "2.   External Factors: If available, consider incorporating external factors that may influence the target variable. For financial analysis, this could include economic indicators, news sentiment, or other relevant data.\n",
        "\n"
      ],
      "metadata": {
        "id": "kHwPq1qcVOYC"
      }
    },
    {
      "cell_type": "code",
      "source": [
        "# Assuming you already have a DataFrame named 'stock_data' and 'Close' is the target variable\n",
        "lags = 3  # Choose the number of lagged values to include\n",
        "\n",
        "# Create lagged columns\n",
        "for i in range(1, lags + 1):\n",
        "    stock_data[f'Close_Lag_{i}'] = stock_data['Close'].shift(i)\n",
        "\n",
        "# Drop rows with NaN values resulting from the shift\n",
        "stock_data.dropna(inplace=True)\n",
        "\n",
        "# Display the updated DataFrame\n",
        "print(stock_data.head())\n"
      ],
      "metadata": {
        "id": "OMuWnwOLVDo5"
      },
      "execution_count": null,
      "outputs": []
    },
    {
      "cell_type": "markdown",
      "source": [
        "**Now that we've successfully created lagged variables and incorporated them into the DataFrame. Now, with these additional features, we can proceed to train the ARIMA model using the new dataset.**"
      ],
      "metadata": {
        "id": "gPG9Oc8bWS2j"
      }
    },
    {
      "cell_type": "code",
      "source": [
        "from statsmodels.tsa.arima.model import ARIMA\n",
        "\n",
        "# Assuming 'Close' is still your target variable\n",
        "target_variable = 'Close'\n",
        "lagged_features = [f'Close_Lag_{i}' for i in range(1, lags + 1)]\n",
        "\n",
        "# Prepare data for the model\n",
        "X = stock_data[lagged_features]\n",
        "y = stock_data[target_variable]\n",
        "\n",
        "# Fit the ARIMA model with lagged features\n",
        "model = ARIMA(y, order=(2, 2, 2))  # Adjust order as needed\n",
        "model_fit = model.fit()\n",
        "\n",
        "# Display the model summary\n",
        "print(model_fit.summary())\n"
      ],
      "metadata": {
        "id": "KYnKk26qWDnw"
      },
      "execution_count": null,
      "outputs": []
    },
    {
      "cell_type": "markdown",
      "source": [
        "# Model Residuals Analysis\n",
        "\n",
        "\n",
        "\n",
        "*   After training, analyze the residuals of the ARIMA model.\n",
        "*   Plot the residuals and check for any patterns or systematic errors.\n",
        "*   Use statistical tests to ensure that the residuals are white noise.\n",
        "\n",
        "\n"
      ],
      "metadata": {
        "id": "fFSGqr7qdxVj"
      }
    },
    {
      "cell_type": "code",
      "source": [
        "import matplotlib.pyplot as plt\n",
        "import seaborn as sns\n",
        "from statsmodels.tsa.stattools import acf, pacf\n",
        "\n",
        "# Retrieve the residuals\n",
        "residuals = model_fit.resid\n",
        "\n",
        "# Plot the residuals over time\n",
        "plt.figure(figsize=(12, 6))\n",
        "plt.plot(residuals, color='blue')\n",
        "plt.title('Residuals Over Time')\n",
        "plt.xlabel('Time')\n",
        "plt.ylabel('Residuals')\n",
        "plt.show()\n",
        "\n",
        "# Plot histogram and Q-Q plot for normality check\n",
        "plt.figure(figsize=(14, 6))\n",
        "plt.subplot(1, 2, 1)\n",
        "sns.histplot(residuals, bins=30, kde=True, color='blue')\n",
        "plt.title('Histogram of Residuals')\n",
        "\n",
        "plt.subplot(1, 2, 2)\n",
        "from statsmodels.graphics.gofplots import qqplot\n",
        "qqplot(residuals, line='s', color='blue', alpha=0.7)\n",
        "plt.title('Q-Q Plot of Residuals')\n",
        "plt.show()\n"
      ],
      "metadata": {
        "id": "jOibq-qmdgJL"
      },
      "execution_count": null,
      "outputs": []
    },
    {
      "cell_type": "markdown",
      "source": [
        "**let's proceed with the second task in Model Residuals Analysis, which involves calculating and plotting the autocorrelation and partial autocorrelation functions of the residuals.**"
      ],
      "metadata": {
        "id": "KvLU1EVCeomc"
      }
    },
    {
      "cell_type": "code",
      "source": [
        "# Calculate autocorrelation and partial autocorrelation functions\n",
        "acf_resid = acf(residuals, fft=False)\n",
        "pacf_resid = pacf(residuals)\n",
        "\n",
        "# Plot autocorrelation function\n",
        "plt.figure(figsize=(12, 6))\n",
        "plt.subplot(2, 1, 1)\n",
        "plt.stem(acf_resid, markerfmt=' ', basefmt=\"-b\", use_line_collection=True)\n",
        "plt.title('Autocorrelation Function of Residuals')\n",
        "plt.xlabel('Lag')\n",
        "plt.ylabel('Autocorrelation')\n",
        "\n",
        "# Plot partial autocorrelation function\n",
        "plt.subplot(2, 1, 2)\n",
        "plt.stem(pacf_resid, markerfmt=' ', basefmt=\"-b\", use_line_collection=True)\n",
        "plt.title('Partial Autocorrelation Function of Residuals')\n",
        "plt.xlabel('Lag')\n",
        "plt.ylabel('Partial Autocorrelation')\n",
        "\n",
        "plt.tight_layout()\n",
        "plt.show()\n"
      ],
      "metadata": {
        "id": "-xd1BfCoec-p"
      },
      "execution_count": null,
      "outputs": []
    },
    {
      "cell_type": "markdown",
      "source": [
        "**Now let's predict future stock prices using the trained ARIMA model on the new dataset, you can follow these steps:**\n",
        "\n",
        "\n",
        "\n",
        "*   Train the ARIMA model on the entire dataset (including the new data).\n",
        "*   Forecast future values based on the trained model.\n",
        "\n"
      ],
      "metadata": {
        "id": "RIBSBxk2iUYP"
      }
    },
    {
      "cell_type": "code",
      "source": [
        "from statsmodels.tsa.arima.model import ARIMA\n",
        "\n",
        "# Assuming 'new_data' is your new dataset with the same structure as the training data\n",
        "# Train the ARIMA model on the entire dataset\n",
        "model = ARIMA(closing_prices, order=(2, 2, 2))  # Use the best parameters obtained during training\n",
        "fit_model = model.fit()\n",
        "\n",
        "# Forecast future values\n",
        "forecast_periods = 10  # Change this value based on how many future periods you want to predict\n",
        "forecast = fit_model.get_forecast(steps=forecast_periods)\n",
        "\n",
        "# Extract forecasted values and confidence intervals\n",
        "forecast_values = forecast.predicted_mean\n",
        "confidence_intervals = forecast.conf_int()\n",
        "\n",
        "# Display the forecasted values and confidence intervals\n",
        "print(\"Forecasted Values:\")\n",
        "print(forecast_values)\n",
        "print(\"\\nConfidence Intervals:\")\n",
        "print(confidence_intervals)\n"
      ],
      "metadata": {
        "id": "EcRGdhaDh65O"
      },
      "execution_count": null,
      "outputs": []
    }
  ]
}